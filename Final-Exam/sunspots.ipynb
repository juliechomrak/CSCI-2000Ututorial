{
 "cells": [
  {
   "cell_type": "code",
   "execution_count": null,
   "metadata": {
    "collapsed": true
   },
   "outputs": [],
   "source": [
    "%matplotlib inline\n",
    "import numpy as np\n",
    "from scipy import stats\n",
    "import matplotlib as mpl\n",
    "import matplotlib.pyplot as plt\n",
    "from scipy import misc\n",
    "\n",
    "ISSN_D_tot.csv = np.array(ISSN_D_tot.csv)\n",
    "for element in ISSN_D_tot.csv:\n",
    "    sort(element)\n",
    "    print(\"The most recent observations were on\", tail)\n",
    "\n",
    "print(\"Statistics of the daily sunspot observeations (1818 - present):\")\n",
    "a = average(ISSN_D_tot.csv)\n",
    "print(\"Mean:\", a)\n",
    "m = median(ISSN_D_tot.csv)\n",
    "print(\"Median:\", m)\n",
    "sd = std.dev(ISSN_D_tot.csv)\n",
    "print(\"Standard deviation:\", sd)\n",
    "\n",
    "f1 = open('ISSN_D_tot.csv', 'r')\n",
    "\n",
    "y1 = np.array([])\n",
    "\n",
    "for line in f1:\n",
    "    y1 = np.append(y1,line)\n",
    "\n",
    "\n",
    "\n",
    "plt.plot(x,y, color='cyan', linestyle='.')\n",
    "plt.plot(a, color = \"blue\")\n",
    "plt.plot(m, color = \"black\")\n",
    "plt.plot(sd, color = 'magenta', linestyle = '-')\n",
    "\n",
    "plt.xlabel(\"time\")\n",
    "plt.ylabel(\"observations\")\n",
    "\n",
    "plt.title(\"Daily sunspot observations (1818 to 2014)\")\n",
    "\n",
    "plt.show(x,y)\n",
    "\n",
    "plt.save(sunspot.png)\n",
    "    "
   ]
  }
 ],
 "metadata": {
  "kernelspec": {
   "display_name": "Python 3",
   "language": "python",
   "name": "python3"
  },
  "language_info": {
   "codemirror_mode": {
    "name": "ipython",
    "version": 3
   },
   "file_extension": ".py",
   "mimetype": "text/x-python",
   "name": "python",
   "nbconvert_exporter": "python",
   "pygments_lexer": "ipython3",
   "version": "3.4.3"
  }
 },
 "nbformat": 4,
 "nbformat_minor": 0
}
