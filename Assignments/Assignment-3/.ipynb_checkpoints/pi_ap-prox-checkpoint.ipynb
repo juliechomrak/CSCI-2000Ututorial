{
 "cells": [
  {
   "cell_type": "code",
   "execution_count": 29,
   "metadata": {
    "collapsed": false
   },
   "outputs": [
    {
     "name": "stdout",
     "output_type": "stream",
     "text": [
      "When n =       10, rho_n =       3.252366\n",
      "When n =       10, tau_n =       3.039508\n",
      "When n =       10, mu_n =        3.141312\n",
      "When n =      100, rho_n =       3.151693\n",
      "When n =      100, tau_n =       3.131981\n",
      "When n =      100, mu_n =        3.141592\n",
      "When n =     1000, rho_n =       3.142594\n",
      "When n =     1000, tau_n =       3.140637\n",
      "When n =     1000, mu_n =        3.141593\n",
      "When n =    10000, rho_n =       3.141693\n",
      "When n =    10000, tau_n =       3.141497\n",
      "When n =    10000, mu_n =        3.141593\n",
      "When n =   100000, rho_n =       3.141603\n",
      "When n =   100000, tau_n =       3.141583\n",
      "When n =   100000, mu_n =        3.141593\n",
      "When n =  1000000, rho_n =       3.141594\n",
      "When n =  1000000, tau_n =       3.141592\n",
      "When n =  1000000, mu_n =        3.141593\n"
     ]
    }
   ],
   "source": [
    "#Julie Chomrak 100555212\n",
    "\n",
    "for i in range (0,6):\n",
    "    #for loop to ensure all 6 n values are used\n",
    "    #resets pn,tn,and un for each loop\n",
    "    pn = 0\n",
    "    tn = 0\n",
    "    un = 0\n",
    "    if (i == 0):\n",
    "        n = 10\n",
    "    elif (i == 1):\n",
    "        n = 100\n",
    "    elif (i == 2):\n",
    "        n = 1000\n",
    "    elif (i == 3):\n",
    "        n = 10000\n",
    "    elif (i == 4):\n",
    "        n = 100000\n",
    "    elif (i == 5):\n",
    "        n = 1000000\n",
    "        \n",
    "    for k in range (1,n):\n",
    "        #for loop to ensure the summation of all k values from 1 to n\n",
    "        pn += (((-1)**(k+1))/((2*k)-1))\n",
    "        #equation for 1a summation\n",
    "        tn += (1/(k**2))\n",
    "        #equation for 1b summation\n",
    "        un += (1/(k**4))\n",
    "        #equation for 1c summation\n",
    "    pn = (4*pn)\n",
    "    #equation for 1a after summation\n",
    "    tn = (6*tn)**(1/2)\n",
    "    #equation for 1b after summation\n",
    "    un = (90*un)**(1/4)\n",
    "    #equation for 1c after summation\n",
    "    print(\"When n = %8d, rho_n = %14f\" % (n,pn))\n",
    "    print(\"When n = %8d, tau_n = %14f\" % (n,tn))\n",
    "    print(\"When n = %8d, mu_n =  %14f\" % (n,un))\n",
    "    #prints the three results in the desired format"
   ]
  },
  {
   "cell_type": "code",
   "execution_count": 12,
   "metadata": {
    "collapsed": false
   },
   "outputs": [
    {
     "name": "stdout",
     "output_type": "stream",
     "text": [
      "hello\n"
     ]
    }
   ],
   "source": []
  },
  {
   "cell_type": "code",
   "execution_count": null,
   "metadata": {
    "collapsed": true
   },
   "outputs": [],
   "source": []
  }
 ],
 "metadata": {
  "kernelspec": {
   "display_name": "Python 3",
   "language": "python",
   "name": "python3"
  },
  "language_info": {
   "codemirror_mode": {
    "name": "ipython",
    "version": 3
   },
   "file_extension": ".py",
   "mimetype": "text/x-python",
   "name": "python",
   "nbconvert_exporter": "python",
   "pygments_lexer": "ipython3",
   "version": "3.4.3"
  }
 },
 "nbformat": 4,
 "nbformat_minor": 0
}
