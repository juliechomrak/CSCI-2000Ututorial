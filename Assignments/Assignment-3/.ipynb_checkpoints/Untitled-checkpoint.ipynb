{
 "cells": [
  {
   "cell_type": "code",
   "execution_count": 13,
   "metadata": {
    "collapsed": false
   },
   "outputs": [
    {
     "ename": "SyntaxError",
     "evalue": "invalid syntax (<ipython-input-13-db7f46aaf6f9>, line 16)",
     "output_type": "error",
     "traceback": [
      "\u001b[1;36m  File \u001b[1;32m\"<ipython-input-13-db7f46aaf6f9>\"\u001b[1;36m, line \u001b[1;32m16\u001b[0m\n\u001b[1;33m    print(\"When n = %8d ,rho_n = %12f\" % (n,pn))\u001b[0m\n\u001b[1;37m        ^\u001b[0m\n\u001b[1;31mSyntaxError\u001b[0m\u001b[1;31m:\u001b[0m invalid syntax\n"
     ]
    }
   ],
   "source": [
    "for i in range (0,5):\n",
    "    if (i == 0):\n",
    "        n = 10\n",
    "    elif (i == 1):\n",
    "        n = 100\n",
    "    elif (i == 2):\n",
    "        n = 1000\n",
    "    elif (i == 3):\n",
    "        n = 10000\n",
    "    elif (i == 4):\n",
    "        n = 100000\n",
    "    elif (i == 5):\n",
    "        n = 1000000\n",
    "    for k in range (1,n):\n",
    "        pn += 4*(((-1)^(k+1))/(2*n -1)\n",
    "    print(\"When n = %8d ,rho_n = %12f\" % (n,pn))"
   ]
  },
  {
   "cell_type": "code",
   "execution_count": null,
   "metadata": {
    "collapsed": true
   },
   "outputs": [],
   "source": []
  }
 ],
 "metadata": {
  "kernelspec": {
   "display_name": "Python 3",
   "language": "python",
   "name": "python3"
  },
  "language_info": {
   "codemirror_mode": {
    "name": "ipython",
    "version": 3
   },
   "file_extension": ".py",
   "mimetype": "text/x-python",
   "name": "python",
   "nbconvert_exporter": "python",
   "pygments_lexer": "ipython3",
   "version": "3.4.3"
  }
 },
 "nbformat": 4,
 "nbformat_minor": 0
}
