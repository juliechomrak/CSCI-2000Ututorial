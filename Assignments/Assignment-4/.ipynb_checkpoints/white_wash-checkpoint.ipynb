{
 "cells": [
  {
   "cell_type": "code",
   "execution_count": 18,
   "metadata": {
    "collapsed": false
   },
   "outputs": [
    {
     "name": "stdout",
     "output_type": "stream",
     "text": [
      "[[ 1.    0.75  0.6 ]\n",
      " [ 0.5   0.65  0.85]\n",
      " [ 1.    0.5   0.5 ]\n",
      " [ 0.6   0.75  0.85]\n",
      " [ 1.    0.85  0.9 ]]\n"
     ]
    }
   ],
   "source": [
    "#Julie Chomrak 100555212\n",
    "import numpy as np\n",
    "\n",
    "def WhiteWash(matrix):\n",
    "    x = 0\n",
    "    for element in matrix:\n",
    "        matrix[x] = (element + 1) / 2\n",
    "        x = x+1\n",
    "    print(matrix)\n",
    "\n",
    "a = np.array([[1,0.5,0.2],[0,0.3,0.7],[1,0,0],[.2,.5,.7],[1,.7,.8]])\n",
    "WhiteWash(a)\n"
   ]
  },
  {
   "cell_type": "code",
   "execution_count": null,
   "metadata": {
    "collapsed": true
   },
   "outputs": [],
   "source": []
  }
 ],
 "metadata": {
  "kernelspec": {
   "display_name": "Python 3",
   "language": "python",
   "name": "python3"
  },
  "language_info": {
   "codemirror_mode": {
    "name": "ipython",
    "version": 3
   },
   "file_extension": ".py",
   "mimetype": "text/x-python",
   "name": "python",
   "nbconvert_exporter": "python",
   "pygments_lexer": "ipython3",
   "version": "3.4.3"
  }
 },
 "nbformat": 4,
 "nbformat_minor": 0
}
