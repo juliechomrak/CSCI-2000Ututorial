{
 "cells": [
  {
   "cell_type": "code",
   "execution_count": 32,
   "metadata": {
    "collapsed": false
   },
   "outputs": [
    {
     "name": "stdout",
     "output_type": "stream",
     "text": [
      "Populating the interactive namespace from numpy and matplotlib\n"
     ]
    }
   ],
   "source": [
    "import numpy as np\n",
    "import matplotlib.pyplot as plt\n",
    "import urllib\n",
    "from mpl_toolkits.basemap import Basemap\n",
    "%pylab inline\n",
    "\n",
    "file = open ('Source_data_for_CFR_vaccine_map_abridged.csv')\n",
    "disease = np.array([])\n",
    "x = np.array([])\n",
    "y = np.array([])\n",
    "cases = np.array([])\n",
    "\n",
    "for line in file:\n",
    "    row = line.split(',')\n",
    "    disease = np.append(disease,row[0])\n",
    "    x = np.append(x,row[1])\n",
    "    y = np.append (y,row[2])\n",
    "    cases = np.append(cases,row[3])\n",
    "    \n",
    "\n",
    "\n"
   ]
  },
  {
   "cell_type": "code",
   "execution_count": null,
   "metadata": {
    "collapsed": true
   },
   "outputs": [],
   "source": []
  }
 ],
 "metadata": {
  "kernelspec": {
   "display_name": "Python 3",
   "language": "python",
   "name": "python3"
  },
  "language_info": {
   "codemirror_mode": {
    "name": "ipython",
    "version": 3
   },
   "file_extension": ".py",
   "mimetype": "text/x-python",
   "name": "python",
   "nbconvert_exporter": "python",
   "pygments_lexer": "ipython3",
   "version": "3.4.3"
  }
 },
 "nbformat": 4,
 "nbformat_minor": 0
}
